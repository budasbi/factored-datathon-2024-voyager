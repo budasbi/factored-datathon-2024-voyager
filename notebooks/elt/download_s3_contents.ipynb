{
 "cells": [
  {
   "cell_type": "code",
   "execution_count": null,
   "metadata": {},
   "outputs": [],
   "source": [
    "import boto3\n",
    "import os\n",
    "s3_bucket_name = 'factored-datathon-2024-voyager-tests'  \n",
    "s3_region = 'us-east-1'   \n",
    "aws_key_id = ''\n",
    "aws_secret_key = ''\n",
    "local_dir =''\n"
   ]
  },
  {
   "cell_type": "code",
   "execution_count": null,
   "metadata": {},
   "outputs": [],
   "source": [
    "session = boto3.Session(aws_access_key_id=aws_key_id, aws_secret_access_key=aws_secret_key)\n",
    "s3 = session.client('s3', region_name=s3_region)\n",
    "bucket_name = s3_bucket_name\n",
    "\n",
    "def download_s3_bucket(bucket_name, local_dir):\n",
    "    paginator = s3.get_paginator('list_objects_v2')\n",
    "    for page in paginator.paginate(Bucket=bucket_name):\n",
    "        for obj in page.get('Contents', []):\n",
    "            # Obtener el key (ruta del archivo en S3)\n",
    "            key = obj['Key']\n",
    "            # Crear la ruta local\n",
    "            local_path = os.path.join(local_dir, key)\n",
    "            # Crear los directorios si no existen\n",
    "            if not os.path.exists(os.path.dirname(local_path)):\n",
    "                os.makedirs(os.path.dirname(local_path))\n",
    "            # Descargar el archivo\n",
    "            s3.download_file(bucket_name, key, local_path)\n",
    "            print(f'Descargado: {key} a {local_path}')\n",
    "\n",
    "\n",
    "download_s3_bucket(bucket_name, local_dir)\n",
    "\n"
   ]
  }
 ],
 "metadata": {
  "kernelspec": {
   "display_name": "Python 3 (ipykernel)",
   "language": "python",
   "name": "python3"
  },
  "language_info": {
   "codemirror_mode": {
    "name": "ipython",
    "version": 3
   },
   "file_extension": ".py",
   "mimetype": "text/x-python",
   "name": "python",
   "nbconvert_exporter": "python",
   "pygments_lexer": "ipython3",
   "version": "3.10.12"
  }
 },
 "nbformat": 4,
 "nbformat_minor": 2
}
