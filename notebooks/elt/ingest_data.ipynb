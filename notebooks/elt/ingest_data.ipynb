{
 "cells": [
  {
   "cell_type": "code",
   "execution_count": 1,
   "metadata": {},
   "outputs": [],
   "source": [
    "# %%\n",
    "import requests\n",
    "from bs4 import BeautifulSoup\n",
    "import boto3\n",
    "import zipfile\n",
    "import io\n",
    "import logging\n",
    "import gc\n",
    "import os\n",
    "\n"
   ]
  },
  {
   "cell_type": "code",
   "execution_count": 2,
   "metadata": {},
   "outputs": [
    {
     "name": "stdout",
     "output_type": "stream",
     "text": [
      "factored-datathon-2024-voyager-temp\n"
     ]
    }
   ],
   "source": [
    "\n",
    "\n",
    "S3_BUCKET_NAME = 'factored-datathon-2024-voyager-temp'   \n",
    "print(S3_BUCKET_NAME)\n",
    "AWS_REGION = 'us-east-1'   \n",
    "EVENTS_URL = \"https://data.gdeltproject.org/events/index.html\"\n",
    "GKG_URL = \"https://data.gdeltproject.org/gkg/index.html\"\n",
    "MINIMUM_DATE = 20240601# locally20240801#\n",
    "\n",
    "logger = logging.getLogger('ingest_data')\n",
    "logging.basicConfig( level=logging.INFO)"
   ]
  },
  {
   "cell_type": "code",
   "execution_count": 3,
   "metadata": {},
   "outputs": [],
   "source": [
    "def get_file_list_from_url(url, filetype):\n",
    "    response = requests.get(url, verify=False)\n",
    "    if response.status_code == 200:\n",
    "        soup = BeautifulSoup(response.text, 'html.parser')\n",
    "        a_elements = soup.find_all('a')\n",
    "        links = [a.get('href') for a in a_elements if a.get('href')]\n",
    "        curated_links = [file for file in links if file.startswith('202')]\n",
    "        filtered_by_date = [file for file in curated_links if int(file[0:8])>MINIMUM_DATE]\n",
    "        if filetype == 'events':\n",
    "            keyword = '.export.'\n",
    "        elif filetype == 'gkg':\n",
    "            keyword = '.gkg.csv'\n",
    "        elif filetype == 'gkg_counts':\n",
    "            keyword = '.gkgcounts.csv'\n",
    "        else:\n",
    "            raise Exception('wrong filetype')\n",
    "        filter_by_filetype = [file for file in filtered_by_date if keyword in file]\n",
    "        link_list = list(map(lambda x: url.replace('index.html','')+x, filter_by_filetype  ))\n",
    "        gc.collect()\n",
    "        return link_list\n",
    "\n",
    "    else:\n",
    "        logger.info(f\"Error al obtener la página: {response.status_code}\")"
   ]
  },
  {
   "cell_type": "code",
   "execution_count": 4,
   "metadata": {},
   "outputs": [],
   "source": [
    "\n",
    "def download_unzip_save_file(file_url,filetype):\n",
    "    file_response = requests.get(file_url, verify=False, stream=True)\n",
    "    filename = file_url.split('/')[-1]\n",
    "    logger.info(file_url)\n",
    "    year = str(filename[0:4])\n",
    "    month = str(filename[4:6])\n",
    "    day = str(filename[6:8])\n",
    "    file_response.raise_for_status() \n",
    "    file_content = file_response.content\n",
    "    # filename = file_url.split('/')[-1]\n",
    "    with zipfile.ZipFile(io.BytesIO(file_content)) as z:\n",
    "        file_name_in_zip = z.namelist()[0]  \n",
    "        logger.info(z.namelist()[0])\n",
    "        logger.info(file_name_in_zip)\n",
    "        with z.open(file_name_in_zip) as unzipped_file:\n",
    "            # If we want to test Locally\n",
    "            logger.info(file_name_in_zip)\n",
    "            defined_key = f'raw/{filetype}/year={year}/month={month}/day={day}/{file_name_in_zip}'\n",
    "            # session = boto3.Session(aws_access_key_id=AWS_ACCESS_KEY, aws_secret_access_key=AWS_SECRET_KEY)\n",
    "            s3 = boto3.client('s3', region_name=AWS_REGION)\n",
    "            s3.upload_fileobj(Fileobj = unzipped_file, Bucket =S3_BUCKET_NAME, Key =defined_key)\n",
    "    gc.collect()"
   ]
  },
  {
   "cell_type": "code",
   "execution_count": 5,
   "metadata": {},
   "outputs": [],
   "source": [
    "def ingest_events(filetype='events'):\n",
    "    try:\n",
    "        link_list = get_file_list_from_url(EVENTS_URL, filetype)\n",
    "        for file in link_list:\n",
    "            download_unzip_save_file(file,filetype)\n",
    "            gc.collect()\n",
    "    except Exception:\n",
    "        logger.info('Something Happened when ingest_events() executed')\n",
    "\n"
   ]
  },
  {
   "cell_type": "code",
   "execution_count": 6,
   "metadata": {},
   "outputs": [],
   "source": [
    "def ingest_gkgs(filetype):\n",
    "    try:\n",
    "        link_list = get_file_list_from_url(GKG_URL,filetype)\n",
    "        for file in link_list:\n",
    "            download_unzip_save_file(file,filetype)\n",
    "            gc.collect()\n",
    "    except Exception:\n",
    "        logger.info('Something Happened when ingest_events() executed')"
   ]
  },
  {
   "cell_type": "code",
   "execution_count": null,
   "metadata": {},
   "outputs": [],
   "source": [
    "link_list = get_file_list_from_url(EVENTS_URL, 'events')"
   ]
  },
  {
   "cell_type": "code",
   "execution_count": 7,
   "metadata": {},
   "outputs": [],
   "source": [
    "\n",
    "# ingest_events()\n",
    "# ingest_gkgs('gkg_counts')"
   ]
  }
 ],
 "metadata": {
  "kernelspec": {
   "display_name": "Python 3",
   "language": "python",
   "name": "python3"
  },
  "language_info": {
   "codemirror_mode": {
    "name": "ipython",
    "version": 3
   },
   "file_extension": ".py",
   "mimetype": "text/x-python",
   "name": "python",
   "nbconvert_exporter": "python",
   "pygments_lexer": "ipython3",
   "version": "3.10.12"
  }
 },
 "nbformat": 4,
 "nbformat_minor": 2
}
