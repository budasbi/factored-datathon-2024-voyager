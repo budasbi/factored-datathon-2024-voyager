{
 "cells": [
  {
   "cell_type": "markdown",
   "id": "5043de49",
   "metadata": {},
   "source": [
    "<p style='text-align: right;'><i>Aug 12 - 25, 2024 </i> </p>"
   ]
  },
  {
   "cell_type": "markdown",
   "id": "4f07ddf6",
   "metadata": {},
   "source": [
    "<h1 style=\"background-color:orange;\"></h1>\n"
   ]
  },
  {
   "cell_type": "markdown",
   "id": "53e39b3a",
   "metadata": {},
   "source": [
    "<h1 style='text-align: center;'> Voyager Team Datathon 2024 </h1>\n"
   ]
  },
  {
   "cell_type": "markdown",
   "id": "c6f68d30",
   "metadata": {},
   "source": [
    "<h3 style='text-align: center;'> <i> Machine Learning Phase at Datathon 2024 </i> </h3>"
   ]
  },
  {
   "cell_type": "markdown",
   "id": "3d83baf4",
   "metadata": {},
   "source": [
    "<h5 style='text-align: center;'> <i>Our data journey</i> </h5>"
   ]
  },
  {
   "cell_type": "markdown",
   "id": "d8e0358d",
   "metadata": {},
   "source": [
    "<h1 style=\"background-color:orange;\"></h1>"
   ]
  },
  {
   "cell_type": "markdown",
   "id": "49d8db73",
   "metadata": {},
   "source": [
    "<div style=\"background-color:LightGray;\"><p style='text-align: center;'><align = center>Participants: <i>Oscar Sierra, David Mercado, Rodrigo Quezada </i></p></div>  "
   ]
  },
  {
   "cell_type": "markdown",
   "id": "d8d0a8fe",
   "metadata": {},
   "source": [
    "***"
   ]
  },
  {
   "cell_type": "code",
   "execution_count": 1,
   "id": "60e95843",
   "metadata": {},
   "outputs": [],
   "source": [
    "import pandas as pd\n",
    "import numpy as np\n",
    "from datetime import datetime\n",
    "from sklearn.model_selection import train_test_split\n",
    "from sklearn import metrics\n",
    "import matplotlib.pyplot as plt\n",
    "import seaborn as sns\n",
    "%matplotlib inline\n",
    "\n",
    "from scipy.stats import boxcox\n",
    "from scipy.stats.mstats import normaltest\n",
    "from sklearn.linear_model import LinearRegression\n",
    "from sklearn.metrics import r2_score \n",
    "from sklearn.metrics import mean_squared_error\n",
    "from sklearn.pipeline import Pipeline\n",
    "\n",
    "from sklearn.preprocessing import StandardScaler\n",
    "from sklearn.metrics import r2_score "
   ]
  },
  {
   "cell_type": "code",
   "execution_count": 2,
   "id": "ed6888d3",
   "metadata": {},
   "outputs": [],
   "source": [
    "# Surpressing warnings:\n",
    "\n",
    "def warn(*args, **kwargs):\n",
    "    pass\n",
    "import warnings\n",
    "warnings.warn = warn"
   ]
  },
  {
   "cell_type": "code",
   "execution_count": 3,
   "id": "01ca4c82",
   "metadata": {},
   "outputs": [
    {
     "data": {
      "text/plain": [
       "(52741, 10)"
      ]
     },
     "execution_count": 3,
     "metadata": {},
     "output_type": "execute_result"
    }
   ],
   "source": [
    "# Now export the sample file for ML processing\n",
    "\n",
    "ml_eds = pd.read_csv('c:/Users/dslab/Desktop/Datathon_2024/ml_eds_8_25_2024.csv')\n",
    "\n",
    "mlds = ml_eds.drop(ml_eds.columns[0], axis=1)\n",
    "\n",
    "mlds.shape"
   ]
  },
  {
   "cell_type": "code",
   "execution_count": 4,
   "id": "060b6301",
   "metadata": {},
   "outputs": [
    {
     "data": {
      "text/plain": [
       "Index(['Cameo', 'Mentions', 'Tone', 'Index', 'Year', 'Month', 'Day',\n",
       "       'Day_of_week', 'Day_of_year', 'Country_Num'],\n",
       "      dtype='object')"
      ]
     },
     "execution_count": 4,
     "metadata": {},
     "output_type": "execute_result"
    }
   ],
   "source": [
    "mlds.columns"
   ]
  },
  {
   "cell_type": "code",
   "execution_count": 5,
   "id": "838fca6a",
   "metadata": {},
   "outputs": [
    {
     "data": {
      "text/html": [
       "<div>\n",
       "<style scoped>\n",
       "    .dataframe tbody tr th:only-of-type {\n",
       "        vertical-align: middle;\n",
       "    }\n",
       "\n",
       "    .dataframe tbody tr th {\n",
       "        vertical-align: top;\n",
       "    }\n",
       "\n",
       "    .dataframe thead th {\n",
       "        text-align: right;\n",
       "    }\n",
       "</style>\n",
       "<table border=\"1\" class=\"dataframe\">\n",
       "  <thead>\n",
       "    <tr style=\"text-align: right;\">\n",
       "      <th></th>\n",
       "      <th>Cameo</th>\n",
       "      <th>Mentions</th>\n",
       "      <th>Tone</th>\n",
       "      <th>Index</th>\n",
       "      <th>Year</th>\n",
       "      <th>Month</th>\n",
       "      <th>Day</th>\n",
       "      <th>Day_of_week</th>\n",
       "      <th>Day_of_year</th>\n",
       "      <th>Country_Num</th>\n",
       "    </tr>\n",
       "  </thead>\n",
       "  <tbody>\n",
       "    <tr>\n",
       "      <th>0</th>\n",
       "      <td>874</td>\n",
       "      <td>90</td>\n",
       "      <td>-8.421541</td>\n",
       "      <td>-757.938669</td>\n",
       "      <td>2024</td>\n",
       "      <td>8</td>\n",
       "      <td>8</td>\n",
       "      <td>3</td>\n",
       "      <td>221</td>\n",
       "      <td>145</td>\n",
       "    </tr>\n",
       "    <tr>\n",
       "      <th>1</th>\n",
       "      <td>874</td>\n",
       "      <td>64</td>\n",
       "      <td>-4.787869</td>\n",
       "      <td>-306.423596</td>\n",
       "      <td>2024</td>\n",
       "      <td>8</td>\n",
       "      <td>8</td>\n",
       "      <td>3</td>\n",
       "      <td>221</td>\n",
       "      <td>208</td>\n",
       "    </tr>\n",
       "    <tr>\n",
       "      <th>2</th>\n",
       "      <td>874</td>\n",
       "      <td>36</td>\n",
       "      <td>-0.420969</td>\n",
       "      <td>-15.154893</td>\n",
       "      <td>2023</td>\n",
       "      <td>8</td>\n",
       "      <td>9</td>\n",
       "      <td>2</td>\n",
       "      <td>221</td>\n",
       "      <td>208</td>\n",
       "    </tr>\n",
       "    <tr>\n",
       "      <th>3</th>\n",
       "      <td>874</td>\n",
       "      <td>30</td>\n",
       "      <td>-0.500731</td>\n",
       "      <td>-15.021930</td>\n",
       "      <td>2024</td>\n",
       "      <td>8</td>\n",
       "      <td>8</td>\n",
       "      <td>3</td>\n",
       "      <td>221</td>\n",
       "      <td>208</td>\n",
       "    </tr>\n",
       "    <tr>\n",
       "      <th>4</th>\n",
       "      <td>874</td>\n",
       "      <td>24</td>\n",
       "      <td>-3.418224</td>\n",
       "      <td>-82.037370</td>\n",
       "      <td>2024</td>\n",
       "      <td>8</td>\n",
       "      <td>8</td>\n",
       "      <td>3</td>\n",
       "      <td>221</td>\n",
       "      <td>39</td>\n",
       "    </tr>\n",
       "    <tr>\n",
       "      <th>...</th>\n",
       "      <td>...</td>\n",
       "      <td>...</td>\n",
       "      <td>...</td>\n",
       "      <td>...</td>\n",
       "      <td>...</td>\n",
       "      <td>...</td>\n",
       "      <td>...</td>\n",
       "      <td>...</td>\n",
       "      <td>...</td>\n",
       "      <td>...</td>\n",
       "    </tr>\n",
       "    <tr>\n",
       "      <th>52736</th>\n",
       "      <td>190</td>\n",
       "      <td>1</td>\n",
       "      <td>-3.352559</td>\n",
       "      <td>-3.352559</td>\n",
       "      <td>2024</td>\n",
       "      <td>8</td>\n",
       "      <td>8</td>\n",
       "      <td>3</td>\n",
       "      <td>221</td>\n",
       "      <td>98</td>\n",
       "    </tr>\n",
       "    <tr>\n",
       "      <th>52737</th>\n",
       "      <td>190</td>\n",
       "      <td>1</td>\n",
       "      <td>-3.352559</td>\n",
       "      <td>-3.352559</td>\n",
       "      <td>2024</td>\n",
       "      <td>8</td>\n",
       "      <td>8</td>\n",
       "      <td>3</td>\n",
       "      <td>221</td>\n",
       "      <td>208</td>\n",
       "    </tr>\n",
       "    <tr>\n",
       "      <th>52738</th>\n",
       "      <td>190</td>\n",
       "      <td>1</td>\n",
       "      <td>-7.305936</td>\n",
       "      <td>-7.305936</td>\n",
       "      <td>2024</td>\n",
       "      <td>8</td>\n",
       "      <td>8</td>\n",
       "      <td>3</td>\n",
       "      <td>221</td>\n",
       "      <td>208</td>\n",
       "    </tr>\n",
       "    <tr>\n",
       "      <th>52739</th>\n",
       "      <td>190</td>\n",
       "      <td>1</td>\n",
       "      <td>-7.305936</td>\n",
       "      <td>-7.305936</td>\n",
       "      <td>2024</td>\n",
       "      <td>8</td>\n",
       "      <td>8</td>\n",
       "      <td>3</td>\n",
       "      <td>221</td>\n",
       "      <td>208</td>\n",
       "    </tr>\n",
       "    <tr>\n",
       "      <th>52740</th>\n",
       "      <td>190</td>\n",
       "      <td>1</td>\n",
       "      <td>-3.238866</td>\n",
       "      <td>-3.238866</td>\n",
       "      <td>2024</td>\n",
       "      <td>8</td>\n",
       "      <td>8</td>\n",
       "      <td>3</td>\n",
       "      <td>221</td>\n",
       "      <td>208</td>\n",
       "    </tr>\n",
       "  </tbody>\n",
       "</table>\n",
       "<p>52741 rows × 10 columns</p>\n",
       "</div>"
      ],
      "text/plain": [
       "       Cameo  Mentions      Tone       Index  Year  Month  Day  Day_of_week  \\\n",
       "0        874        90 -8.421541 -757.938669  2024      8    8            3   \n",
       "1        874        64 -4.787869 -306.423596  2024      8    8            3   \n",
       "2        874        36 -0.420969  -15.154893  2023      8    9            2   \n",
       "3        874        30 -0.500731  -15.021930  2024      8    8            3   \n",
       "4        874        24 -3.418224  -82.037370  2024      8    8            3   \n",
       "...      ...       ...       ...         ...   ...    ...  ...          ...   \n",
       "52736    190         1 -3.352559   -3.352559  2024      8    8            3   \n",
       "52737    190         1 -3.352559   -3.352559  2024      8    8            3   \n",
       "52738    190         1 -7.305936   -7.305936  2024      8    8            3   \n",
       "52739    190         1 -7.305936   -7.305936  2024      8    8            3   \n",
       "52740    190         1 -3.238866   -3.238866  2024      8    8            3   \n",
       "\n",
       "       Day_of_year  Country_Num  \n",
       "0              221          145  \n",
       "1              221          208  \n",
       "2              221          208  \n",
       "3              221          208  \n",
       "4              221           39  \n",
       "...            ...          ...  \n",
       "52736          221           98  \n",
       "52737          221          208  \n",
       "52738          221          208  \n",
       "52739          221          208  \n",
       "52740          221          208  \n",
       "\n",
       "[52741 rows x 10 columns]"
      ]
     },
     "execution_count": 5,
     "metadata": {},
     "output_type": "execute_result"
    }
   ],
   "source": [
    "mlds"
   ]
  },
  {
   "cell_type": "code",
   "execution_count": 61,
   "id": "affada5f",
   "metadata": {},
   "outputs": [
    {
     "data": {
      "text/plain": [
       "Index(['Cameo', 'Mentions', 'Tone', 'Index', 'Year', 'Month', 'Day',\n",
       "       'Day_of_week', 'Day_of_year', 'Country_Num'],\n",
       "      dtype='object')"
      ]
     },
     "execution_count": 61,
     "metadata": {},
     "output_type": "execute_result"
    }
   ],
   "source": [
    "mlds.columns"
   ]
  },
  {
   "cell_type": "code",
   "execution_count": 6,
   "id": "0ea58b87",
   "metadata": {},
   "outputs": [
    {
     "name": "stdout",
     "output_type": "stream",
     "text": [
      "<class 'pandas.core.frame.DataFrame'>\n",
      "RangeIndex: 52741 entries, 0 to 52740\n",
      "Data columns (total 10 columns):\n",
      " #   Column       Non-Null Count  Dtype  \n",
      "---  ------       --------------  -----  \n",
      " 0   Cameo        52741 non-null  int64  \n",
      " 1   Mentions     52741 non-null  int64  \n",
      " 2   Tone         52741 non-null  float64\n",
      " 3   Index        52741 non-null  float64\n",
      " 4   Year         52741 non-null  int64  \n",
      " 5   Month        52741 non-null  int64  \n",
      " 6   Day          52741 non-null  int64  \n",
      " 7   Day_of_week  52741 non-null  int64  \n",
      " 8   Day_of_year  52741 non-null  int64  \n",
      " 9   Country_Num  52741 non-null  int64  \n",
      "dtypes: float64(2), int64(8)\n",
      "memory usage: 4.0 MB\n"
     ]
    }
   ],
   "source": [
    "mlds.info()"
   ]
  },
  {
   "cell_type": "code",
   "execution_count": 8,
   "id": "f6907872",
   "metadata": {},
   "outputs": [
    {
     "data": {
      "text/plain": [
       "Cameo          0\n",
       "Mentions       0\n",
       "Tone           0\n",
       "Index          0\n",
       "Year           0\n",
       "Month          0\n",
       "Day            0\n",
       "Day_of_week    0\n",
       "Day_of_year    0\n",
       "Country_Num    0\n",
       "dtype: int64"
      ]
     },
     "execution_count": 8,
     "metadata": {},
     "output_type": "execute_result"
    }
   ],
   "source": [
    "mlds.isnull().sum()"
   ]
  },
  {
   "cell_type": "code",
   "execution_count": 9,
   "id": "ea1f5a40",
   "metadata": {},
   "outputs": [
    {
     "data": {
      "text/plain": [
       "Index(['Cameo', 'Mentions', 'Tone', 'Index', 'Year', 'Month', 'Day',\n",
       "       'Day_of_week', 'Day_of_year', 'Country_Num'],\n",
       "      dtype='object')"
      ]
     },
     "execution_count": 9,
     "metadata": {},
     "output_type": "execute_result"
    }
   ],
   "source": [
    "mlds.columns"
   ]
  },
  {
   "cell_type": "code",
   "execution_count": 21,
   "id": "586435c5",
   "metadata": {},
   "outputs": [
    {
     "data": {
      "text/plain": [
       "Index          1.000000\n",
       "Tone           0.162049\n",
       "Day           -0.000227\n",
       "Month         -0.001964\n",
       "Day_of_year   -0.002289\n",
       "Year          -0.004959\n",
       "Day_of_week   -0.005393\n",
       "Cameo         -0.013680\n",
       "Country_Num   -0.019068\n",
       "Mentions      -0.810247\n",
       "Name: Index, dtype: float64"
      ]
     },
     "execution_count": 21,
     "metadata": {},
     "output_type": "execute_result"
    }
   ],
   "source": [
    "# Display a correlation relationship sort by more relevant among all the variables\n",
    "\n",
    "corr_matrix = mlds.corr(numeric_only=True)\n",
    "\n",
    "corr_matrix['Index'].sort_values(ascending=False)"
   ]
  },
  {
   "cell_type": "code",
   "execution_count": 22,
   "id": "e3ed73f7",
   "metadata": {},
   "outputs": [
    {
     "name": "stdout",
     "output_type": "stream",
     "text": [
      "Eigenvalues of the correlation matrix are: \n",
      "2.7772497598109895\n",
      "1.8377460028998094\n",
      "1.2588205673396422\n",
      "1.1259238259094766\n",
      "1.0080708887251022\n",
      "0.840889826364644\n",
      "0.8914705476354752\n",
      "0.18054400482349034\n",
      "0.07912577515139171\n",
      "0.0001588013399784455\n"
     ]
    }
   ],
   "source": [
    "# Compute the eigenvalues of the correlation matrix to dismiss multicollinearity\n",
    "# as if one or more eigenvalues close to zero beware of it.\n",
    "\n",
    "eigenvalues = np.linalg.eigvals(corr_matrix)\n",
    "\n",
    "print(\"Eigenvalues of the correlation matrix are: \")\n",
    "for i in eigenvalues:\n",
    "    print(i)"
   ]
  },
  {
   "cell_type": "code",
   "execution_count": 23,
   "id": "c17dc7af",
   "metadata": {},
   "outputs": [
    {
     "data": {
      "text/plain": [
       "Index(['Cameo', 'Mentions', 'Tone', 'Index', 'Year', 'Month', 'Day',\n",
       "       'Day_of_week', 'Day_of_year', 'Country_Num'],\n",
       "      dtype='object')"
      ]
     },
     "execution_count": 23,
     "metadata": {},
     "output_type": "execute_result"
    }
   ],
   "source": [
    "mlds.columns"
   ]
  },
  {
   "cell_type": "code",
   "execution_count": 26,
   "id": "b57f698a",
   "metadata": {},
   "outputs": [
    {
     "data": {
      "image/png": "[encoded data removed]",
      "text/plain": [
       "<Figure size 640x480 with 1 Axes>"
      ]
     },
     "metadata": {},
     "output_type": "display_data"
    }
   ],
   "source": [
    "sns.regplot(x=mlds.Mentions, y=mlds.Index, data=mlds, scatter_kws={'color': 'black'}); "
   ]
  },
  {
   "cell_type": "code",
   "execution_count": 25,
   "id": "72d7baa9",
   "metadata": {},
   "outputs": [
    {
     "data": {
      "image/png": "[encoded data removed]",
      "text/plain": [
       "<Figure size 640x480 with 1 Axes>"
      ]
     },
     "metadata": {},
     "output_type": "display_data"
    }
   ],
   "source": [
    "sns.regplot(x=mlds.Tone, y=mlds.Index, data=mlds, scatter_kws={'color': 'red'}); "
   ]
  },
  {
   "cell_type": "code",
   "execution_count": 27,
   "id": "7b1b09f2",
   "metadata": {},
   "outputs": [
    {
     "data": {
      "image/png": "[encoded data removed]",
      "text/plain": [
       "<Figure size 640x480 with 1 Axes>"
      ]
     },
     "metadata": {},
     "output_type": "display_data"
    }
   ],
   "source": [
    "sns.regplot(x=mlds.Cameo, y=mlds.Index, data=mlds, scatter_kws={'color': 'orange'}); "
   ]
  },
  {
   "cell_type": "markdown",
   "id": "e60ec30d",
   "metadata": {},
   "source": [
    "# Using and Evaluating Machine Learning Models"
   ]
  },
  {
   "cell_type": "markdown",
   "id": "5bd96d45",
   "metadata": {},
   "source": [
    "*Parameter check and tunning directly over the cells per time limintations for the Datathon 2024 contest*"
   ]
  },
  {
   "cell_type": "markdown",
   "id": "8643ed9c",
   "metadata": {},
   "source": [
    "***"
   ]
  },
  {
   "cell_type": "markdown",
   "id": "e079e2de",
   "metadata": {},
   "source": [
    "## Linear Regression Model (without scaling)\n"
   ]
  },
  {
   "cell_type": "code",
   "execution_count": 40,
   "id": "b30b7b22",
   "metadata": {},
   "outputs": [
    {
     "name": "stdout",
     "output_type": "stream",
     "text": [
      "Training data R squared:  -855.3369680231234\n",
      "Testing data R squared:  -1997.7603822423448\n",
      "\n",
      "Mean Squared Error for ALL independent variables with random state zero: 13572.139608549998\n",
      "R-squared for ALL independent variables with random state zero:  0.487592344655559\n"
     ]
    }
   ],
   "source": [
    "# Split data into independent and dependent variables\n",
    "   #Independent variables\n",
    "X = mlds.drop(\"Index\", axis=1)\n",
    "\n",
    "    # Dependent variable\n",
    "y = mlds[\"Index\"]\n",
    "\n",
    "# Split data into training and test sets\n",
    "X_train, X_test, y_train, y_test = train_test_split(X, y, test_size=0.30, random_state=0)\n",
    "\n",
    "# Initialize linear regression model\n",
    "model = LinearRegression()\n",
    "\n",
    "# Fit the model on the training data\n",
    "model.fit(X_train, y_train)\n",
    "\n",
    "# Make predictions on the test data\n",
    "y_pred = model.predict(X_test)\n",
    "\n",
    "# Evaluate the model\n",
    "mse = mean_squared_error(y_test, y_pred)\n",
    "r_squared = r2_score(y_test, y_pred)\n",
    "\n",
    "ph = \" for ALL independent variables with random state zero\"\n",
    "\n",
    "# Use R squared for Model evaluation\n",
    "\n",
    "#r2_score(y_test,sleep_score_predictions)\n",
    "print(\"Training data R squared: \", lm.score(X_train, y_train))\n",
    "print(\"Testing data R squared: \", lm.score(X_test,y_test))\n",
    "\n",
    "# Proportion of the variation in the dependent variable that is predictable from the independent variables. \n",
    "# The closer is R squared to 1.0, the better is the fit of the model.\n",
    "# If R squared is negative suggests overfitting (that statistical model fits exactly against its training data)\n",
    "print()\n",
    "print(f\"Mean Squared Error{ph}:\", mse)\n",
    "print(f\"R-squared{ph}: \", r_squared)\n"
   ]
  },
  {
   "cell_type": "markdown",
   "id": "ad4d8e32",
   "metadata": {},
   "source": [
    "## Linear Regression Model (with scaling)"
   ]
  },
  {
   "cell_type": "code",
   "execution_count": 41,
   "id": "ea05e660",
   "metadata": {},
   "outputs": [
    {
     "name": "stdout",
     "output_type": "stream",
     "text": [
      "Training data R squared:  0.6960968526507227\n",
      "Testing data R squared:  0.48759234465555923\n",
      "\n",
      "Mean Squared Error for ALL independent variables with random state zero: 13572.139608549995\n",
      "R-squared for ALL independent variables with random state zero:  0.48759234465555923\n"
     ]
    }
   ],
   "source": [
    "# Split data into independent and dependent variables\n",
    "   #Independent variables\n",
    "X = mlds.drop(\"Index\", axis=1)\n",
    "\n",
    "    # Dependent variable\n",
    "y = mlds[\"Index\"]\n",
    "\n",
    "# Split data into training and test sets\n",
    "X_train, X_test, y_train, y_test = train_test_split(X, y, test_size=0.30, random_state=0)\n",
    "\n",
    "# Create instance to remove the mean and scaling to unit variance (standardize features) \n",
    "ss=StandardScaler()\n",
    "ss\n",
    "\n",
    "# Transform the training and the testing data\n",
    "X_train=ss.fit_transform(X_train)\n",
    "X_test=ss.transform(X_test)\n",
    "\n",
    "# Initialize linear regression model\n",
    "model = LinearRegression()\n",
    "\n",
    "# Fit the model on the training data\n",
    "model.fit(X_train, y_train)\n",
    "\n",
    "# Make predictions on the test data\n",
    "y_pred = model.predict(X_test)\n",
    "\n",
    "# Evaluate the model\n",
    "mse = mean_squared_error(y_test, y_pred)\n",
    "r_squared = r2_score(y_test, y_pred)\n",
    "\n",
    "ph = \" for ALL independent variables with random state zero\"\n",
    "\n",
    "# Use R squared for Model evaluation\n",
    "\n",
    "#r2_score(y_test,sleep_score_predictions)\n",
    "print(\"Training data R squared: \", lm.score(X_train, y_train))\n",
    "print(\"Testing data R squared: \", lm.score(X_test,y_test))\n",
    "\n",
    "# Proportion of the variation in the dependent variable that is predictable from the independent variables. \n",
    "# The closer is R squared to 1.0, the better is the fit of the model.\n",
    "# If R squared is negative suggests overfitting (that statistical model fits exactly against its training data)\n",
    "print()\n",
    "print(f\"Mean Squared Error{ph}:\", mse)\n",
    "print(f\"R-squared{ph}: \", r_squared)"
   ]
  },
  {
   "cell_type": "markdown",
   "id": "c602689e",
   "metadata": {},
   "source": [
    "## Random Forest Regressor Model"
   ]
  },
  {
   "cell_type": "code",
   "execution_count": 57,
   "id": "34e80231",
   "metadata": {},
   "outputs": [
    {
     "name": "stdout",
     "output_type": "stream",
     "text": [
      "\n",
      "Mean Squared Error RandomForestRegressor: 4284.280303938508\n",
      "R-squared RandomForestRegressor: 0.8382496725868827\n"
     ]
    }
   ],
   "source": [
    "# Import necessary libraries\n",
    "import numpy as np\n",
    "import pandas as pd\n",
    "from sklearn.ensemble import RandomForestRegressor\n",
    "from sklearn.metrics import mean_squared_error, r2_score\n",
    "from sklearn.model_selection import train_test_split\n",
    "\n",
    "# Split data into independent and dependent variables\n",
    "   #Independent variables\n",
    "X = mlds.drop(\"Index\", axis=1)\n",
    "\n",
    "    # Dependent variable\n",
    "y = mlds[\"Index\"]\n",
    "\n",
    "# Split data into training and test sets\n",
    "X_train, X_test, y_train, y_test = train_test_split(X, y, test_size=0.30, random_state=0)\n",
    "                                                                                                     \n",
    "# Initialize the RandomForestRegressor\n",
    "rfr = RandomForestRegressor(n_estimators=100, random_state=0)\n",
    "\n",
    "# Fit the model on the training data\n",
    "rfr.fit(X_train, y_train)\n",
    "                                                    \n",
    "# Make predictions on the test data\n",
    "y_pred = rfr.predict(X_test)\n",
    "                                                    \n",
    "# Evaluate the model\n",
    "mse = mean_squared_error(y_test, y_pred)\n",
    "r2 = r2_score(y_test, y_pred)\n",
    "\n",
    "print()\n",
    "print(\"Mean Squared Error RandomForestRegressor:\", mse)\n",
    "print(\"R-squared RandomForestRegressor:\", r2)"
   ]
  },
  {
   "cell_type": "markdown",
   "id": "c3ffaf90",
   "metadata": {},
   "source": [
    "## KNN Model"
   ]
  },
  {
   "cell_type": "code",
   "execution_count": 55,
   "id": "e651ff4f",
   "metadata": {},
   "outputs": [
    {
     "name": "stdout",
     "output_type": "stream",
     "text": [
      "\n",
      "Mean Squared Error: 10294.907514763054\n",
      "R-squared: 0.6113221957793297\n"
     ]
    }
   ],
   "source": [
    "# Import necessary libraries\n",
    "import numpy as np\n",
    "import pandas as pd\n",
    "from sklearn.neighbors import KNeighborsRegressor\n",
    "from sklearn.metrics import mean_squared_error, r2_score\n",
    "from sklearn.model_selection import train_test_split\n",
    "\n",
    "# Split data into independent and dependent variables\n",
    "   #Independent variables\n",
    "X = mlds.drop(\"Index\", axis=1)\n",
    "\n",
    "    # Dependent variable\n",
    "y = mlds[\"Index\"]\n",
    "\n",
    "# Split data into training and test sets\n",
    "X_train, X_test, y_train, y_test = train_test_split(X, y, test_size=0.3, random_state=0)\n",
    "                                                    \n",
    "# Initialize the KNeighborsRegressor\n",
    "knn = KNeighborsRegressor(n_neighbors=9)\n",
    "                                                    \n",
    "# Fit the model on the training data\n",
    "knn.fit(X_train, y_train)\n",
    "                                                    \n",
    "# Make predictions on the test data\n",
    "y_pred = knn.predict(X_test)\n",
    "                                                    \n",
    "# Evaluate the model\n",
    "mse = mean_squared_error(y_test, y_pred)\n",
    "r2 = r2_score(y_test, y_pred)\n",
    "\n",
    "print()\n",
    "print(\"Mean Squared Error:\", mse)\n",
    "print(\"R-squared:\", r2)"
   ]
  },
  {
   "cell_type": "markdown",
   "id": "62dbf00e",
   "metadata": {},
   "source": [
    "## Gradient Boosting Regressor Model"
   ]
  },
  {
   "cell_type": "code",
   "execution_count": 56,
   "id": "a883a84e",
   "metadata": {},
   "outputs": [
    {
     "name": "stdout",
     "output_type": "stream",
     "text": [
      "\n",
      "Mean Squared Error: 425.2961216571533\n",
      "R-squared: 0.9839432105172171\n"
     ]
    }
   ],
   "source": [
    "# Import necessary libraries\n",
    "import numpy as np\n",
    "import pandas as pd\n",
    "from sklearn.ensemble import GradientBoostingRegressor\n",
    "from sklearn.metrics import mean_squared_error, r2_score\n",
    "from sklearn.model_selection import train_test_split\n",
    "\n",
    "# Split data into independent and dependent variables\n",
    "   #Independent variables\n",
    "X = mlds.drop(\"Index\", axis=1)\n",
    "\n",
    "    # Dependent variable\n",
    "y = mlds[\"Index\"]\n",
    "\n",
    "# Split data into training and test sets\n",
    "X_train, X_test, y_train, y_test = train_test_split(X, y, test_size=0.3, random_state=0)\n",
    "                                                    \n",
    "# Initialize the GradientBoostingRegressor\n",
    "gbr = GradientBoostingRegressor(n_estimators=100, random_state=0)\n",
    "\n",
    "# Fit the model on the training data\n",
    "gbr.fit(X_train, y_train)\n",
    "\n",
    "# Make predictions on the test data\n",
    "y_pred = gbr.predict(X_test)\n",
    "\n",
    "# Evaluate the model\n",
    "mse = mean_squared_error(y_test, y_pred)\n",
    "r2 = r2_score(y_test, y_pred)\n",
    "\n",
    "\n",
    "# Use R squared for Model evaluation\n",
    "\n",
    "print()\n",
    "print(\"Mean Squared Error:\", mse)\n",
    "print(\"R-squared:\", r2)"
   ]
  },
  {
   "cell_type": "markdown",
   "id": "4635ec3a",
   "metadata": {},
   "source": [
    "<div class=\"alert alert-block alert-warning\">\n",
    "<h2> Process Insights</h2>\n",
    "-------------------------------------------------------------------------------------------------------------------------------\n",
    "\n",
    "- This model is performing very well. Recommended to now train the model with an expanded dataset.\n",
    "    \n",
    "    <h3> Saving the model as we might run out of time for the Datathon 2024 delivery. </h3> \n",
    "       \n",
    "</div>"
   ]
  },
  {
   "cell_type": "markdown",
   "id": "6439166d",
   "metadata": {},
   "source": [
    "### Save the Model"
   ]
  },
  {
   "cell_type": "code",
   "execution_count": 59,
   "id": "967f5f73",
   "metadata": {},
   "outputs": [],
   "source": [
    "import pickle\n",
    "\n",
    "# Load sample data\n",
    "#data = load_boston()\n",
    "#X, y = data.data, data.target\n",
    "\n",
    "# Train a Gradient Boosting Regressor model\n",
    "#model = GradientBoostingRegressor()\n",
    "#model.fit(X, y)\n",
    "\n",
    "# Save the model to a file\n",
    "with open('voyager_model.pkl', 'wb') as file:\n",
    "    pickle.dump(gbr, file)"
   ]
  },
  {
   "cell_type": "markdown",
   "id": "0f3a23c3",
   "metadata": {},
   "source": [
    "### Confirm Model Retrieval"
   ]
  },
  {
   "cell_type": "code",
   "execution_count": 60,
   "id": "bab7a8c8",
   "metadata": {},
   "outputs": [
    {
     "name": "stdout",
     "output_type": "stream",
     "text": [
      "[-736.85187795 -253.21283061   -7.77919908 ...  -15.97459983  -15.97459983\n",
      "   -4.00711821]\n"
     ]
    }
   ],
   "source": [
    "# Confirm Model can be retrieved\n",
    "\n",
    "# Load the model from the file\n",
    "with open('voyager_model.pkl', 'rb') as file:\n",
    "    loaded_model = pickle.load(file)\n",
    "\n",
    "# Use the loaded model to make predictions\n",
    "predictions = loaded_model.predict(X)\n",
    "print(predictions)\n"
   ]
  },
  {
   "cell_type": "markdown",
   "id": "8de61133",
   "metadata": {},
   "source": [
    "<div class=\"alert alert-block alert-success\">\n",
    "<h2> Process Insights</h2>\n",
    "-------------------------------------------------------------------------------------------------------------------------------\n",
    "\n",
    "- Model is now saved at our repo to be used as-is as needed.\n",
    "- We also have the option to use the code set to train it at a larger dataset.\n",
    "    \n",
    "    <h3> Model accuracy is considered within a very high range at 98.39%. </h3> \n",
    "       \n",
    "</div>"
   ]
  }
 ],
 "metadata": {
  "kernelspec": {
   "display_name": "Python 3 (ipykernel)",
   "language": "python",
   "name": "python3"
  },
  "language_info": {
   "codemirror_mode": {
    "name": "ipython",
    "version": 3
   },
   "file_extension": ".py",
   "mimetype": "text/x-python",
   "name": "python",
   "nbconvert_exporter": "python",
   "pygments_lexer": "ipython3",
   "version": "3.11.5"
  }
 },
 "nbformat": 4,
 "nbformat_minor": 5
}
