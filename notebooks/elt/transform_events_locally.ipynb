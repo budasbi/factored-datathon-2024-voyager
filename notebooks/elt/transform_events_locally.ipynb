{
 "cells": [
  {
   "cell_type": "code",
   "execution_count": 1,
   "metadata": {},
   "outputs": [
    {
     "name": "stderr",
     "output_type": "stream",
     "text": [
      "24/08/20 17:34:41 WARN SparkSession: Using an existing Spark session; only runtime SQL configurations will take effect.\n"
     ]
    }
   ],
   "source": [
    "\n",
    "from pyspark.sql import SparkSession\n",
    "import os\n",
    "from pyspark.sql.functions import split, explode,to_date, regexp_extract, col, upper\n",
    "\n",
    "import shutil\n",
    "import gc\n",
    "\n",
    "spark = SparkSession.builder \\\n",
    "    .appName(\"refine_gkg_counts\") \\\n",
    "    .config(\"spark.driver.memory\", \"20g\")\\\n",
    "    .getOrCreate()\n",
    "\n",
    "\n",
    "base_dir = '/home/oscar/budasbi-repos/factored-datathon-2024-voyager/bucket_contents/raw/events'\n",
    "parquet_path = '/home/oscar/budasbi-repos/factored-datathon-2024-voyager/parquet/events'\n",
    "if os.path.exists(parquet_path):\n",
    "    shutil.rmtree(parquet_path)\n",
    "    os.makedirs(parquet_path)\n"
   ]
  },
  {
   "cell_type": "code",
   "execution_count": 2,
   "metadata": {},
   "outputs": [
    {
     "data": {
      "text/html": [
       "\n",
       "        <div>\n",
       "            <p><b>SparkContext</b></p>\n",
       "\n",
       "            <p><a href=\"http://192.168.200.13:4040\">Spark UI</a></p>\n",
       "\n",
       "            <dl>\n",
       "              <dt>Version</dt>\n",
       "                <dd><code>v3.4.3</code></dd>\n",
       "              <dt>Master</dt>\n",
       "                <dd><code>local[*]</code></dd>\n",
       "              <dt>AppName</dt>\n",
       "                <dd><code>PySparkShell</code></dd>\n",
       "            </dl>\n",
       "        </div>\n",
       "        "
      ],
      "text/plain": [
       "<SparkContext master=local[*] appName=PySparkShell>"
      ]
     },
     "execution_count": 2,
     "metadata": {},
     "output_type": "execute_result"
    }
   ],
   "source": [
    "spark.sparkContext"
   ]
  },
  {
   "cell_type": "code",
   "execution_count": 3,
   "metadata": {},
   "outputs": [],
   "source": [
    "def cleaned_to_parquet(csv_filepath):\n",
    "    print(csv_filepath)\n",
    "    events = spark.read.csv(csv_filepath, header=False, sep='\\t',inferSchema=True)\n",
    "    #Set column names\n",
    "    event_columns = [\"global_event_id\", \"sqldate\", \"month_year\", \"year\", \"fraction_date\", \"actor_1_code\", \"actor_1_name\", \"actor_1_country_Code\", \"actor_1_known_group_code\", \"actor_1_ethnic_code\", \n",
    "                    \"actor_1_religion_code\", \"actor_1_religion_2_code\", \"actor_1_type_code\", \"actor_1_type_2_code\", \"actor_1_type_3_code\", \"actor_2_code\", \"actor_name\", \n",
    "                    \"actor_2_country_code\", \"actor_2_known_group_code\", \"actor_2_ethnic_code\", \"actor_2_religion_1_code\", \"actor_2_religion_2_code\", \n",
    "                    \"actor_2_type_1_code\", \"actor_2_type_2_code\", \"actor_2_type_3_code\", \"is_root_event\", \"event_code\", \"event_base_code\", \"event_root_code\", \n",
    "                    \"quad_class\", \"goldstein_scale\", \"num_mentions\", \"num_sources\", \"num_articles\", \"avg_tone\", \"actor_1_geo_type\", \"actor_1_geo_fullname\", \"actor_1_geo_country_code\", \n",
    "                    \"actor_1_geo_adm1_code\", \"actor_1_geo_lat\", \"actor_1_geo_long\", \"actor_1_geo_feature_id\", \"actor_2_geo_type\", \"actor_2_geo_fullname\", \"actor_2_geo_country_code\", \n",
    "                    \"actor_2_geo_adm1_code\", \"actor_2_geo_lat\", \"actor_2_geo_long\", \"actor_2_geo_feature_id\", \"action_geo_type\", \"action_geo_fullname\", \"action_geo_country_code\", \n",
    "                    \"action_geo_adm1_code\", \"action_geo_lat\", \"action_geo_long\", \"action_geo_feature_id\", \"date_added\", \"source_url\"]\n",
    "    event_w_columns = events.toDF(*event_columns)\n",
    "    #Cast date columns as date\n",
    "    event_w_to_date = event_w_columns.withColumn('date_added', to_date('date_added', 'yyyyMMdd'))\n",
    "    event_w_to_date = event_w_to_date.withColumn('sqldate', to_date('sqldate', 'yyyyMMdd'))\n",
    "\n",
    "    #To check samples of data for all columns\n",
    "    # for column in event_columns:\n",
    "    #     print(column)\n",
    "    #     event_w_to_date.select(column).distinct().orderBy(column, ascending = True).show(5, truncate =False)\n",
    "    #     event_w_to_date.select(column).distinct().orderBy(column, ascending = False).show(5, truncate =False)\n",
    "        \n",
    "\n",
    "    #Set string columns Uppercase\n",
    "    uppercase_columns=['actor_1_code','actor_2_code','actor_1_name','actor_1_country_Code','actor_1_known_group_code','actor_1_ethnic_code','actor_1_religion_code','actor_1_religion_2_code','actor_1_religion_2_code','actor_1_type_code','actor_1_type_2_code','actor_1_type_3_code','actor_2_code','actor_name','actor_2_country_code','actor_2_known_group_code','actor_2_ethnic_code','actor_2_religion_1_code','actor_2_religion_2_code','actor_2_type_1_code','actor_2_type_2_code','actor_2_type_3_code','actor_1_geo_country_code','actor_1_geo_adm1_code','actor_1_geo_feature_id','actor_2_geo_country_code','actor_2_geo_adm1_code']\n",
    "    for column in uppercase_columns:\n",
    "        event_w_to_date = event_w_to_date.withColumn(column, upper(event_w_to_date[column]))\n",
    "    #Split columns in numeric and text values\n",
    "    numeric_pattern = \"^[0-9]+$\"\n",
    "    text_pattern = \"^[^0-9]+$\"\n",
    "    for column in ['actor_1_geo_feature_id','actor_2_geo_feature_id']:\n",
    "        event_w_to_date = event_w_to_date.withColumn(f\"{column}_num\", regexp_extract(col(column), numeric_pattern, 0)) \\\n",
    "                                        .withColumn(f\"{column}_text\", regexp_extract(col(column), text_pattern, 0))\n",
    "    #Remove epmty strings\n",
    "    df_null_replaced = event_w_to_date.na.replace(\"\", None)\n",
    "    \n",
    "    event_w_columns.unpersist()\n",
    "    event_w_to_date.unpersist()\n",
    "    events.unpersist()\n",
    "        \n",
    "    \n",
    "    df_null_replaced.write\\\n",
    "    .mode('append')\\\n",
    "    .format('parquet')\\\n",
    "    .option('compression', 'snappy')\\\n",
    "    .partitionBy('date')\\\n",
    "    .save(parquet_path)\n",
    "    \n",
    "    df_null_replaced.unpersist()\n",
    "    gc.collect()"
   ]
  },
  {
   "cell_type": "code",
   "execution_count": 4,
   "metadata": {},
   "outputs": [],
   "source": [
    "event_files = []\n",
    "for root, dirs, files in os.walk(base_dir):\n",
    "    for file in files:\n",
    "        if file.endswith(\".CSV\"):\n",
    "            event_files.append(os.path.join(root, file))\n"
   ]
  },
  {
   "cell_type": "code",
   "execution_count": 5,
   "metadata": {},
   "outputs": [
    {
     "name": "stdout",
     "output_type": "stream",
     "text": [
      "/home/oscar/budasbi-repos/factored-datathon-2024-voyager/bucket_contents/raw/events/year=2024/month=08/day=05/20240805.export.CSV\n"
     ]
    },
    {
     "name": "stderr",
     "output_type": "stream",
     "text": [
      "24/08/20 17:34:46 WARN package: Truncated the string representation of a plan since it was too large. This behavior can be adjusted by setting 'spark.sql.debug.maxToStringFields'.\n",
      "                                                                                \r"
     ]
    }
   ],
   "source": [
    "if event_files:\n",
    "    # events = spark.read.csv(event_files, header=False, sep='\\t',inferSchema=True)\n",
    "    for file in event_files:\n",
    "        cleaned_to_parquet(file)\n",
    "        break\n",
    "else:\n",
    "    print(\"We didn't find any CSV file\")\n"
   ]
  }
 ],
 "metadata": {
  "kernelspec": {
   "display_name": "Python 3 (ipykernel)",
   "language": "python",
   "name": "python3"
  },
  "language_info": {
   "codemirror_mode": {
    "name": "ipython",
    "version": 3
   },
   "file_extension": ".py",
   "mimetype": "text/x-python",
   "name": "python",
   "nbconvert_exporter": "python",
   "pygments_lexer": "ipython3",
   "version": "3.10.12"
  }
 },
 "nbformat": 4,
 "nbformat_minor": 2
}
