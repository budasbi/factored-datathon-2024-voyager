{
 "cells": [
  {
   "cell_type": "code",
   "execution_count": 1,
   "metadata": {},
   "outputs": [
    {
     "name": "stderr",
     "output_type": "stream",
     "text": [
      "24/08/19 18:09:30 WARN SparkSession: Using an existing Spark session; only runtime SQL configurations will take effect.\n"
     ]
    }
   ],
   "source": [
    "from pyspark.sql import SparkSession\n",
    "import os\n",
    "from pyspark.sql.functions import split, explode,to_date\n",
    "import shutil\n",
    "import gc\n",
    "\n",
    "spark = SparkSession.builder \\\n",
    "    .appName(\"refine_gkg_counts\") \\\n",
    "    .config(\"spark.driver.memory\", \"20g\")\\\n",
    "    .getOrCreate()\n",
    "    # .config(\"spark.memory.offHeap.enabled\",True)\\\n",
    "    # .config(\"spark.executor.memory\", \"10g\")\\\n",
    "    # .config(\"spark.memory.offHeap.size\",\"8g\") \\\n",
    "\n",
    "base_dir = '/home/oscar/budasbi-repos/factored-datathon-2024-voyager/bucket_contents/raw/gkg_counts'\n",
    "parquet_path = '/home/oscar/budasbi-repos/factored-datathon-2024-voyager/parquet/'\n",
    "if os.path.exists(parquet_path):\n",
    "    shutil.rmtree(parquet_path)\n",
    "    os.makedirs(parquet_path)\n"
   ]
  },
  {
   "cell_type": "code",
   "execution_count": 2,
   "metadata": {},
   "outputs": [
    {
     "data": {
      "text/html": [
       "\n",
       "        <div>\n",
       "            <p><b>SparkContext</b></p>\n",
       "\n",
       "            <p><a href=\"http://192.168.200.22:4042\">Spark UI</a></p>\n",
       "\n",
       "            <dl>\n",
       "              <dt>Version</dt>\n",
       "                <dd><code>v3.4.3</code></dd>\n",
       "              <dt>Master</dt>\n",
       "                <dd><code>local[*]</code></dd>\n",
       "              <dt>AppName</dt>\n",
       "                <dd><code>PySparkShell</code></dd>\n",
       "            </dl>\n",
       "        </div>\n",
       "        "
      ],
      "text/plain": [
       "<SparkContext master=local[*] appName=PySparkShell>"
      ]
     },
     "execution_count": 2,
     "metadata": {},
     "output_type": "execute_result"
    }
   ],
   "source": [
    "spark.sparkContext"
   ]
  },
  {
   "cell_type": "code",
   "execution_count": 3,
   "metadata": {},
   "outputs": [],
   "source": [
    "def cleaned_to_parquet(csv_filepath):\n",
    "    gkg_counts = spark.read.csv(csv_filepath, header=True, sep='\\t',inferSchema=True)\n",
    "    gkg_colums=['date','numarts', 'count_type', 'number', 'object_type', 'geo_type', 'geo_fullname', 'geo_country_code', 'geo_adm1_code', 'geo_lat', 'geo_long','geo_feature_id', 'cameo_event_ids', 'sources', 'source_urls' ]\n",
    "    gkg_counts_columns = gkg_counts.toDF(*gkg_colums)\n",
    "    gkg_counts_date = gkg_counts_columns.withColumn('date', to_date('date', 'yyyyMMdd'))\n",
    "    #Split Cameo_event_ids\n",
    "    gkg_counts_split = gkg_counts_date.withColumn(\"cameo_event_ids_split\", split(gkg_counts_date[\"cameo_event_ids\"], \",\"))\n",
    "    gkg_counts_explode = gkg_counts_split.withColumn(\"cameo_event_ids\", explode(gkg_counts_split[\"cameo_event_ids_split\"]))\n",
    "    gkg_counts_ex = gkg_counts_explode.drop(\"cameo_event_ids_split\")\n",
    "    print(csv_filepath)\n",
    "    gkg_counts_nodups = gkg_counts_ex.dropDuplicates()\n",
    "    \n",
    "    \n",
    "    gkg_counts.unpersist()\n",
    "    gkg_counts_columns.unpersist()\n",
    "    gkg_counts_date.unpersist()\n",
    "    gkg_counts_split.unpersist()\n",
    "    gkg_counts_explode.unpersist()\n",
    "    gkg_counts_ex.unpersist()\n",
    "    \n",
    "    gkg_counts_nodups.write\\\n",
    "    .mode('append')\\\n",
    "    .format('parquet')\\\n",
    "    .option('compression', 'snappy')\\\n",
    "    .partitionBy('date')\\\n",
    "    .save(parquet_path)\n",
    "    \n",
    "    gkg_counts_nodups.unpersist()\n",
    "    gc.collect()"
   ]
  },
  {
   "cell_type": "code",
   "execution_count": 4,
   "metadata": {},
   "outputs": [],
   "source": [
    "gkg_files = []\n",
    "for root, dirs, files in os.walk(base_dir):\n",
    "    for file in files:\n",
    "        if file.endswith(\".csv\"):\n",
    "            gkg_files.append(os.path.join(root, file))\n"
   ]
  },
  {
   "cell_type": "code",
   "execution_count": 5,
   "metadata": {},
   "outputs": [
    {
     "name": "stdout",
     "output_type": "stream",
     "text": [
      "/home/oscar/budasbi-repos/factored-datathon-2024-voyager/bucket_contents/raw/gkg_counts/year=2024/month=08/day=05/20240805.gkgcounts.csv\n"
     ]
    },
    {
     "name": "stderr",
     "output_type": "stream",
     "text": [
      "                                                                                \r"
     ]
    },
    {
     "name": "stdout",
     "output_type": "stream",
     "text": [
      "/home/oscar/budasbi-repos/factored-datathon-2024-voyager/bucket_contents/raw/gkg_counts/year=2024/month=08/day=15/20240815.gkgcounts.csv\n"
     ]
    },
    {
     "name": "stderr",
     "output_type": "stream",
     "text": [
      "                                                                                \r"
     ]
    },
    {
     "name": "stdout",
     "output_type": "stream",
     "text": [
      "/home/oscar/budasbi-repos/factored-datathon-2024-voyager/bucket_contents/raw/gkg_counts/year=2024/month=08/day=14/20240814.gkgcounts.csv\n"
     ]
    },
    {
     "name": "stderr",
     "output_type": "stream",
     "text": [
      "                                                                                \r"
     ]
    },
    {
     "name": "stdout",
     "output_type": "stream",
     "text": [
      "/home/oscar/budasbi-repos/factored-datathon-2024-voyager/bucket_contents/raw/gkg_counts/year=2024/month=08/day=10/20240810.gkgcounts.csv\n"
     ]
    },
    {
     "name": "stderr",
     "output_type": "stream",
     "text": [
      "                                                                                \r"
     ]
    },
    {
     "name": "stdout",
     "output_type": "stream",
     "text": [
      "/home/oscar/budasbi-repos/factored-datathon-2024-voyager/bucket_contents/raw/gkg_counts/year=2024/month=08/day=11/20240811.gkgcounts.csv\n"
     ]
    },
    {
     "name": "stderr",
     "output_type": "stream",
     "text": [
      "                                                                                \r"
     ]
    },
    {
     "name": "stdout",
     "output_type": "stream",
     "text": [
      "/home/oscar/budasbi-repos/factored-datathon-2024-voyager/bucket_contents/raw/gkg_counts/year=2024/month=08/day=07/20240807.gkgcounts.csv\n"
     ]
    },
    {
     "name": "stderr",
     "output_type": "stream",
     "text": [
      "                                                                                \r"
     ]
    },
    {
     "name": "stdout",
     "output_type": "stream",
     "text": [
      "/home/oscar/budasbi-repos/factored-datathon-2024-voyager/bucket_contents/raw/gkg_counts/year=2024/month=08/day=12/20240812.gkgcounts.csv\n"
     ]
    },
    {
     "name": "stderr",
     "output_type": "stream",
     "text": [
      "                                                                                \r"
     ]
    },
    {
     "name": "stdout",
     "output_type": "stream",
     "text": [
      "/home/oscar/budasbi-repos/factored-datathon-2024-voyager/bucket_contents/raw/gkg_counts/year=2024/month=08/day=02/20240802.gkgcounts.csv\n"
     ]
    },
    {
     "name": "stderr",
     "output_type": "stream",
     "text": [
      "                                                                                \r"
     ]
    },
    {
     "name": "stdout",
     "output_type": "stream",
     "text": [
      "/home/oscar/budasbi-repos/factored-datathon-2024-voyager/bucket_contents/raw/gkg_counts/year=2024/month=08/day=16/20240816.gkgcounts.csv\n"
     ]
    },
    {
     "name": "stderr",
     "output_type": "stream",
     "text": [
      "                                                                                \r"
     ]
    },
    {
     "name": "stdout",
     "output_type": "stream",
     "text": [
      "/home/oscar/budasbi-repos/factored-datathon-2024-voyager/bucket_contents/raw/gkg_counts/year=2024/month=08/day=06/20240806.gkgcounts.csv\n"
     ]
    },
    {
     "name": "stderr",
     "output_type": "stream",
     "text": [
      "                                                                                \r"
     ]
    },
    {
     "name": "stdout",
     "output_type": "stream",
     "text": [
      "/home/oscar/budasbi-repos/factored-datathon-2024-voyager/bucket_contents/raw/gkg_counts/year=2024/month=08/day=03/20240803.gkgcounts.csv\n"
     ]
    },
    {
     "name": "stderr",
     "output_type": "stream",
     "text": [
      "                                                                                \r"
     ]
    },
    {
     "name": "stdout",
     "output_type": "stream",
     "text": [
      "/home/oscar/budasbi-repos/factored-datathon-2024-voyager/bucket_contents/raw/gkg_counts/year=2024/month=08/day=08/20240808.gkgcounts.csv\n"
     ]
    },
    {
     "name": "stderr",
     "output_type": "stream",
     "text": [
      "                                                                                \r"
     ]
    },
    {
     "name": "stdout",
     "output_type": "stream",
     "text": [
      "/home/oscar/budasbi-repos/factored-datathon-2024-voyager/bucket_contents/raw/gkg_counts/year=2024/month=08/day=09/20240809.gkgcounts.csv\n"
     ]
    },
    {
     "name": "stderr",
     "output_type": "stream",
     "text": [
      "                                                                                \r"
     ]
    },
    {
     "name": "stdout",
     "output_type": "stream",
     "text": [
      "/home/oscar/budasbi-repos/factored-datathon-2024-voyager/bucket_contents/raw/gkg_counts/year=2024/month=08/day=17/20240817.gkgcounts.csv\n"
     ]
    },
    {
     "name": "stderr",
     "output_type": "stream",
     "text": [
      "                                                                                \r"
     ]
    },
    {
     "name": "stdout",
     "output_type": "stream",
     "text": [
      "/home/oscar/budasbi-repos/factored-datathon-2024-voyager/bucket_contents/raw/gkg_counts/year=2024/month=08/day=04/20240804.gkgcounts.csv\n"
     ]
    },
    {
     "name": "stderr",
     "output_type": "stream",
     "text": [
      "                                                                                \r"
     ]
    },
    {
     "name": "stdout",
     "output_type": "stream",
     "text": [
      "/home/oscar/budasbi-repos/factored-datathon-2024-voyager/bucket_contents/raw/gkg_counts/year=2024/month=08/day=13/20240813.gkgcounts.csv\n"
     ]
    },
    {
     "name": "stderr",
     "output_type": "stream",
     "text": [
      "                                                                                \r"
     ]
    }
   ],
   "source": [
    "if gkg_files:\n",
    "    for file in gkg_files:\n",
    "        cleaned_to_parquet(file)\n",
    "        break\n",
    "    # gkg_counts = spark.read.csv(gkg_files, header=True, sep='\\t',inferSchema=True)\n",
    "else:   \n",
    "    print(\"We didn't find any CSV file\")\n"
   ]
  }
 ],
 "metadata": {
  "kernelspec": {
   "display_name": "Python 3 (ipykernel)",
   "language": "python",
   "name": "python3"
  },
  "language_info": {
   "codemirror_mode": {
    "name": "ipython",
    "version": 3
   },
   "file_extension": ".py",
   "mimetype": "text/x-python",
   "name": "python",
   "nbconvert_exporter": "python",
   "pygments_lexer": "ipython3",
   "version": "3.10.12"
  }
 },
 "nbformat": 4,
 "nbformat_minor": 2
}
