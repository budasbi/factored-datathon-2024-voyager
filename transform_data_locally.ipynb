{
 "cells": [
  {
   "cell_type": "code",
   "execution_count": 9,
   "metadata": {},
   "outputs": [
    {
     "name": "stderr",
     "output_type": "stream",
     "text": [
      "24/08/19 00:11:58 WARN Utils: Service 'SparkUI' could not bind on port 4040. Attempting port 4041.\n",
      "24/08/19 00:11:58 WARN Utils: Service 'SparkUI' could not bind on port 4041. Attempting port 4042.\n"
     ]
    }
   ],
   "source": [
    "from pyspark.sql import SparkSession\n",
    "import os\n",
    "\n",
    "# Inicializa la SparkSession\n",
    "spark = SparkSession.builder \\\n",
    "    .appName(\"refine_gkg_counts\") \\\n",
    "    .getOrCreate()\n",
    "\n",
    "# Especifica el directorio local donde están los archivos CSV\n",
    "base_dir = '/home/oscar/budasbi-repos/factored-datathon-2024-voyager/bucket_contents/raw/gkg_counts'\n",
    "\n",
    "# Recorrer el directorio y sus subdirectorios para obtener todos los archivos CSV\n",
    "gkg_files = []\n",
    "for root, dirs, files in os.walk(base_dir):\n",
    "    for file in files:\n",
    "        if file.endswith(\".csv\"):\n",
    "            gkg_files.append(os.path.join(root, file))\n"
   ]
  },
  {
   "cell_type": "code",
   "execution_count": 10,
   "metadata": {},
   "outputs": [
    {
     "data": {
      "text/html": [
       "\n",
       "        <div>\n",
       "            <p><b>SparkContext</b></p>\n",
       "\n",
       "            <p><a href=\"http://192.168.200.22:4042\">Spark UI</a></p>\n",
       "\n",
       "            <dl>\n",
       "              <dt>Version</dt>\n",
       "                <dd><code>v3.4.3</code></dd>\n",
       "              <dt>Master</dt>\n",
       "                <dd><code>local[*]</code></dd>\n",
       "              <dt>AppName</dt>\n",
       "                <dd><code>refine_gkg_counts</code></dd>\n",
       "            </dl>\n",
       "        </div>\n",
       "        "
      ],
      "text/plain": [
       "<SparkContext master=local[*] appName=refine_gkg_counts>"
      ]
     },
     "execution_count": 10,
     "metadata": {},
     "output_type": "execute_result"
    }
   ],
   "source": [
    "spark.sparkContext"
   ]
  },
  {
   "cell_type": "code",
   "execution_count": 11,
   "metadata": {},
   "outputs": [
    {
     "name": "stdout",
     "output_type": "stream",
     "text": [
      "\n",
      "+--------+-------+--------------------+------+-------------------+--------+--------------------+---------------+------------+-------+--------+-------------+--------------------+--------------------+--------------------+\n",
      "|    DATE|NUMARTS|           COUNTTYPE|NUMBER|         OBJECTTYPE|GEO_TYPE|        GEO_FULLNAME|GEO_COUNTRYCODE|GEO_ADM1CODE|GEO_LAT|GEO_LONG|GEO_FEATUREID|       CAMEOEVENTIDS|             SOURCES|          SOURCEURLS|\n",
      "+--------+-------+--------------------+------+-------------------+--------+--------------------+---------------+------------+-------+--------+-------------+--------------------+--------------------+--------------------+\n",
      "|20240805|      1|                KILL|    10|               null|       1|             Germany|             GM|          GM|   51.5|    10.5|           GM|1191056014,119105...|           yahoo.com|https://news.yaho...|\n",
      "|20240805|      2|CRISISLEX_C03_WEL...|     2|               null|       4|Pokrovsk, Mordovi...|             RS|        RS46| 54.768|  45.837|     -2985097|1190951737,119095...|menafn.com;menafn...|https://menafn.co...|\n",
      "|20240805|      1|              AFFECT|     9|  studies suggested|       0|                null|           null|        null|   null|    null|         null|                null|     dailygalaxy.com|https://dailygala...|\n",
      "|20240805|      3|    SOC_GENERALCRIME|   250|               null|       4|Northern Ireland,...|             UK|        UKR8|   54.5|    -6.5|     -2604275|                null|yahoo.com;bbc.co....|https://www.yahoo...|\n",
      "|20240805|      1|              AFFECT|  2013|Endangered Person x|       3|Jacksonville, Flo...|             US|        USFL|30.3322|-81.6556|       295003|1190927924,119092...|  firstcoastnews.com|https://www.first...|\n",
      "|20240805|      1|              KIDNAP|    12|               null|       4|Eluru, Andhra Pra...|             IN|        IN02|   16.7|    81.1|     -2095478|1190916314,119101...|        thehindu.com|https://www.thehi...|\n",
      "|20240805|      5|CRISISLEX_CRISISL...|     6|               null|       4|Beirut, Beyrouth,...|             LE|        LE04|33.8719| 35.5097|      -801546|1190914048,119091...|businesstimes.com...|https://www.busin...|\n",
      "|20240805|      2|  CRISISLEX_T03_DEAD|     9|               null|       3|Manayunk, Pennsyl...|             US|        USPA|40.0246|-75.2141|      1180261|1191072126,119107...|independent.co.uk...|https://www.indep...|\n",
      "|20240805|      1|              KIDNAP|  2013|               null|       1|            Portugal|             PO|          PO|   39.5|    -8.0|           PO|1190919200,119099...|        euractiv.com|https://www.eurac...|\n",
      "|20240805|     54|CRISISLEX_C03_WEL...|    19|               null|       1|              Israel|             IS|          IS|   31.5|   34.75|           IS|1190914035,119091...|wcfcourier.com;my...|https://wcfcourie...|\n",
      "|20240805|      1|             PROTEST|   500|               null|       1|               Niger|             NG|          NG|   16.0|     8.0|           NG|                null|    hallmarknews.com|https://hallmarkn...|\n",
      "|20240805|    431|                KILL|     3|              girls|       4|Southport, Sefton...|             UK|        UKL8|53.6667|    -3.0|     -2608309|1190914008,119091...|tspr.org;weaa.org...|https://www.tspr....|\n",
      "|20240805|      1|                KILL|     7|               null|       3|Cherokee County, ...|             US|        USNC|35.1501|-84.0332|      1008545|1190993832,119093...|           wyff4.com|https://www.wyff4...|\n",
      "|20240805|     10|            REFUGEES|     4|               null|       4|Rotherham, Rother...|             UK|        UKL3|53.4333|   -1.35|     -2606551|1191010481,119092...|dailymail.co.uk;d...|https://www.daily...|\n",
      "|20240805|      1|              ARREST|    21|               null|       4|Mallardstown, Kil...|             EI|        EI13|52.5339|  -7.345|       370034|                null|     sundayworld.com|https://www.sunda...|\n",
      "|20240805|      1|             PROTEST|  2013|               null|       1|           Australia|             AS|          AS|  -25.0|   135.0|           AS|                null|           aol.co.uk|https://www.aol.c...|\n",
      "|20240805|      1|  CRISISLEX_T03_DEAD|     3|               null|       5|       Kerala, India|             IN|        IN13|   10.0|    76.5|     -2100307|          1191032520|          aninews.in|https://aninews.i...|\n",
      "|20240805|    103|CRISISLEX_C07_SAFETY|  2013|               null|       4|Greater Mancheste...|             UK|        UK00|  53.45|-2.23333|     -2597513|1190916595,119091...|ledburyreporter.c...|https://www.ledbu...|\n",
      "|20240805|      2|CRISISLEX_C03_WEL...|    71|               null|       1|              Israel|             IS|          IS|   31.5|   34.75|           IS|1190919290,119092...|aa.com.tr;english...|https://www.aa.co...|\n",
      "|20240805|      1|               WOUND|     3|          personnel|       4|Rajpura, Rajastha...|             IN|        IN24|28.5122| 73.9228|        78467|1191058986,119105...|  hindustantimes.com|https://www.hindu...|\n",
      "+--------+-------+--------------------+------+-------------------+--------+--------------------+---------------+------------+-------+--------+-------------+--------------------+--------------------+--------------------+\n",
      "only showing top 20 rows\n",
      "\n"
     ]
    }
   ],
   "source": [
    "\n",
    "# Si tienes varios archivos, puedes concatenarlos para leerlos todos juntos\n",
    "if gkg_files:\n",
    "    gkg_counts = spark.read.csv(gkg_files, header=True, sep='\\t',inferSchema=True)\n",
    "    print()\n",
    "    gkg_counts.show()  # Muestra las primeras filas del DataFrame\n",
    "else:\n",
    "    print(\"No se encontraron archivos CSV en el directorio especificado.\")\n"
   ]
  },
  {
   "cell_type": "code",
   "execution_count": 12,
   "metadata": {},
   "outputs": [
    {
     "data": {
      "text/plain": [
       "307576"
      ]
     },
     "execution_count": 12,
     "metadata": {},
     "output_type": "execute_result"
    }
   ],
   "source": [
    "gkg_counts.count()#1441421"
   ]
  },
  {
   "cell_type": "code",
   "execution_count": 13,
   "metadata": {},
   "outputs": [
    {
     "name": "stdout",
     "output_type": "stream",
     "text": [
      "root\n",
      " |-- DATE: integer (nullable = true)\n",
      " |-- NUMARTS: integer (nullable = true)\n",
      " |-- COUNTTYPE: string (nullable = true)\n",
      " |-- NUMBER: long (nullable = true)\n",
      " |-- OBJECTTYPE: string (nullable = true)\n",
      " |-- GEO_TYPE: integer (nullable = true)\n",
      " |-- GEO_FULLNAME: string (nullable = true)\n",
      " |-- GEO_COUNTRYCODE: string (nullable = true)\n",
      " |-- GEO_ADM1CODE: string (nullable = true)\n",
      " |-- GEO_LAT: double (nullable = true)\n",
      " |-- GEO_LONG: double (nullable = true)\n",
      " |-- GEO_FEATUREID: string (nullable = true)\n",
      " |-- CAMEOEVENTIDS: string (nullable = true)\n",
      " |-- SOURCES: string (nullable = true)\n",
      " |-- SOURCEURLS: string (nullable = true)\n",
      "\n"
     ]
    }
   ],
   "source": [
    "gkg_counts.printSchema()"
   ]
  },
  {
   "cell_type": "code",
   "execution_count": null,
   "metadata": {},
   "outputs": [],
   "source": [
    "gkg_colums=['date','numarts', 'count_type', 'number', 'object_type', 'geo_type', 'geo_fullname', 'geo_country_code', 'geo_adm1_code', 'geo_lat', 'geo_long','geo_feature_id', 'cameo_event_ids', 'sources', 'source_urls' ]\n",
    "#publication_date -> to date\n",
    "#geo_type -> replace nulls with 0\n",
    "#geo_type = {1:'Country', 2:'US State', 3:'US City', 4: 'World City', 5: 'World State', 0: 'Not Assigned'}\n",
    "#geo_country_code resolve with \n",
    "#geo_adm1_code -> https://github.com/mysociety/gaze/blob/master/data/us-states.csv\n",
    "#Explote cameo_event_ids"
   ]
  },
  {
   "cell_type": "code",
   "execution_count": null,
   "metadata": {},
   "outputs": [],
   "source": [
    "df.show(truncate=False)"
   ]
  },
  {
   "cell_type": "code",
   "execution_count": null,
   "metadata": {},
   "outputs": [],
   "source": [
    "df.printSchema()"
   ]
  },
  {
   "cell_type": "code",
   "execution_count": null,
   "metadata": {},
   "outputs": [],
   "source": [
    "new_column_names = ['Date', ]"
   ]
  },
  {
   "cell_type": "code",
   "execution_count": null,
   "metadata": {},
   "outputs": [],
   "source": [
    "df.select('DATE', 'NUMARTS').show()"
   ]
  },
  {
   "cell_type": "code",
   "execution_count": null,
   "metadata": {},
   "outputs": [],
   "source": [
    "df.createOrReplaceTempView('gkgcounts')\n",
    "limit10 = spark.sql(\"select * from gkgcounts limit 10\")\n",
    "limit10.show(truncate=False)"
   ]
  },
  {
   "cell_type": "code",
   "execution_count": null,
   "metadata": {},
   "outputs": [],
   "source": [
    "from pyspark.sql.functions import split, explode\n",
    "df_split = df.withColumn(\"CAMEOEVENTIDS_split\", split(df[\"CAMEOEVENTIDS\"], \",\"))\n",
    "df_split.show(truncate=False)"
   ]
  },
  {
   "cell_type": "code",
   "execution_count": null,
   "metadata": {},
   "outputs": [],
   "source": [
    "df_exploded = df_split.withColumn(\"CAMEOEVENTIDS\", explode(df_split[\"CAMEOEVENTIDS_split\"]))\n",
    "df_exploded.show(truncate=False)"
   ]
  },
  {
   "cell_type": "code",
   "execution_count": null,
   "metadata": {},
   "outputs": [],
   "source": [
    "from pyspark.sql.functions import col, sum\n",
    "\n",
    "df.select([sum(col(c).isNull().cast(\"int\")).alias(c) for c in df.columns]).show()\n"
   ]
  },
  {
   "cell_type": "code",
   "execution_count": 8,
   "metadata": {},
   "outputs": [],
   "source": [
    "\n",
    "# Detener la sesión de Spark al finalizar\n",
    "spark.stop()\n"
   ]
  },
  {
   "cell_type": "code",
   "execution_count": null,
   "metadata": {},
   "outputs": [],
   "source": [
    "sc"
   ]
  }
 ],
 "metadata": {
  "kernelspec": {
   "display_name": "Python 3 (ipykernel)",
   "language": "python",
   "name": "python3"
  },
  "language_info": {
   "codemirror_mode": {
    "name": "ipython",
    "version": 3
   },
   "file_extension": ".py",
   "mimetype": "text/x-python",
   "name": "python",
   "nbconvert_exporter": "python",
   "pygments_lexer": "ipython3",
   "version": "3.10.12"
  }
 },
 "nbformat": 4,
 "nbformat_minor": 2
}
